{
 "cells": [
  {
   "cell_type": "markdown",
   "metadata": {
    "deletable": false,
    "editable": false,
    "run_control": {
     "frozen": true
    }
   },
   "source": [
    "#  Answers: Q-Learning Tutorial\n",
    "\n",
    "---\n",
    "\n",
    "This notebook contains the answers for prompts in the  `Q-Learning (answers)` notebook found [here](https://github.com/js-fitz/Q-Learning/). Try each function out on your own, but come back here if you get frustrated. The answers in this notebook represent the bare minimum—the simplest possible answer for each prompt—so if you want to see the backend code including bonus features, animations and additional print statements, check out the `ql_functions.py` module file used throughout. Also visit the module file if you want to adapt your functions for a bigger boards (above 3x3) — this raises unexpected and interesting challenges."
   ]
  },
  {
   "cell_type": "markdown",
   "metadata": {
    "deletable": false,
    "editable": false,
    "run_control": {
     "frozen": true
    }
   },
   "source": [
    "---\n",
    "\n",
    "### 1.1 `new_board()`"
   ]
  },
  {
   "cell_type": "code",
   "execution_count": 1,
   "metadata": {
    "deletable": false,
    "editable": false,
    "run_control": {
     "frozen": true
    }
   },
   "outputs": [],
   "source": [
    "def new_board(size=3):\n",
    "    return [' ']*size**2"
   ]
  },
  {
   "cell_type": "markdown",
   "metadata": {
    "deletable": false,
    "editable": false,
    "run_control": {
     "frozen": true
    }
   },
   "source": [
    "---\n",
    "\n",
    "### 1.2 `show()`"
   ]
  },
  {
   "cell_type": "code",
   "execution_count": 2,
   "metadata": {
    "deletable": false,
    "editable": false,
    "run_control": {
     "frozen": true
    }
   },
   "outputs": [],
   "source": [
    "def show(b, helpers=False):\n",
    "    board = list(b).copy() # accepts board as list or string\n",
    "    size = int(math.sqrt(len(board)))  \n",
    "    \n",
    "\n",
    "    if helpers: # placeholders (starting at 1)    \n",
    "        board = [str(e+1) if i==' ' else i for e,i in enumerate(board)]\n",
    "        \n",
    "    # recolor for visibility:\n",
    "    for e,b in enumerate(board):\n",
    "        if 'X' in b: board[e] = f\"\\x1b[31m{b}\\x1b[0m\"   # 31=red\n",
    "        elif 'O' in b: board[e] = f\"\\x1b[34m{b}\\x1b[0m\" # 34=blue\n",
    "        else: board[e] = f\"\\x1b[37m{b}\\x1b[0m\"          # 37=gray\n",
    "            \n",
    "    # print grid and values:\n",
    "    for row in range(0, len(board), size): # start of each row\n",
    "        print('—'*(4*size+1))\n",
    "        for col in range(size):  # add column to row start\n",
    "            print(f'| {board[(row+col)]} |', end='\\b')\n",
    "        print('|')\n",
    "        print('—'*(4*size+1), end='\\r')\n",
    "    print()"
   ]
  },
  {
   "cell_type": "markdown",
   "metadata": {
    "deletable": false,
    "editable": false,
    "run_control": {
     "frozen": true
    }
   },
   "source": [
    "---\n",
    "\n",
    "### 1.3 `evaluate()`"
   ]
  },
  {
   "cell_type": "markdown",
   "metadata": {
    "deletable": false,
    "editable": false,
    "run_control": {
     "frozen": true
    }
   },
   "source": [
    "First we set up a helper function to define the minimum number of tiles in a row required to win. This step is not totally, necessary but set us up for easier customization of the environment later on."
   ]
  },
  {
   "cell_type": "code",
   "execution_count": 3,
   "metadata": {
    "deletable": false,
    "editable": false,
    "run_control": {
     "frozen": true
    }
   },
   "outputs": [],
   "source": [
    "def check_for_win(b_line, min_contig=3):\n",
    "    for p in 'XO':\n",
    "        for i in list(range(len(b_line)-min_contig+1)): # check chunks in the line\n",
    "            if b_line[i:i+3].count(p) == 3: return p\n",
    "    return False"
   ]
  },
  {
   "cell_type": "markdown",
   "metadata": {
    "deletable": false,
    "editable": false,
    "run_control": {
     "frozen": true
    }
   },
   "source": [
    "Then we use `evaluate` to run `check_for_win` across lines in the board:"
   ]
  },
  {
   "cell_type": "code",
   "execution_count": 4,
   "metadata": {
    "deletable": false,
    "editable": false,
    "run_control": {
     "frozen": true
    }
   },
   "outputs": [],
   "source": [
    "def evaluate(b):\n",
    "\n",
    "    size = int(math.sqrt(len(b))) # define row / column length\n",
    "\n",
    "    # verticals\n",
    "    for col in range(size):\n",
    "        v_line = [b[row+col] for row in range(0, len(b), size)]\n",
    "        winner = check_for_win(v_line)\n",
    "        if winner: return winner+' Wins!'\n",
    "\n",
    "    # horizontals\n",
    "    for row in range(0, len(b), size):\n",
    "        h_line = [b[row+col] for col in range(size)]\n",
    "        winner = check_for_win(h_line)\n",
    "        if winner: return winner+' Wins!'\n",
    "\n",
    "    # down-right diagonal\n",
    "    dr_line = [b[int(row+row/size)] for row in range(0, len(b), size)]\n",
    "    winner = check_for_win(dr_line)\n",
    "    if winner: return winner+' Wins!'\n",
    "\n",
    "    # up-right diagonal\n",
    "    ur_line = [b[int(size*col-col)] for col in range(1, size+1)[::-1]]   \n",
    "    winner = check_for_win(ur_line)\n",
    "    if winner: return winner+' Wins!'\n",
    "\n",
    "    # If no win, check for empty spaces:\n",
    "    if b.count(' ')>0:\n",
    "        return 'Continue'\n",
    "\n",
    "    # If no win and no empty spaces:\n",
    "    else: return 'Tie!'"
   ]
  },
  {
   "cell_type": "markdown",
   "metadata": {
    "deletable": false,
    "editable": false,
    "run_control": {
     "frozen": true
    }
   },
   "source": [
    "---\n",
    "\n",
    "### 2.1 `flip_board()`"
   ]
  },
  {
   "cell_type": "code",
   "execution_count": 5,
   "metadata": {
    "deletable": false,
    "editable": false,
    "run_control": {
     "frozen": true
    }
   },
   "outputs": [],
   "source": [
    "def flip_board(b_key): \n",
    "    return b_key.replace('X','o').replace('O','X').upper()"
   ]
  },
  {
   "cell_type": "markdown",
   "metadata": {
    "deletable": false,
    "editable": false,
    "run_control": {
     "frozen": true
    }
   },
   "source": [
    "---\n",
    "\n",
    "### 2.2 `get_move()`"
   ]
  },
  {
   "cell_type": "code",
   "execution_count": 6,
   "metadata": {
    "deletable": false,
    "editable": false,
    "run_control": {
     "frozen": true
    }
   },
   "outputs": [],
   "source": [
    "def get_move(b, epsilon=.5, player='X', init_q=.3):\n",
    "    \n",
    "    global q_table # work with the global Q table\n",
    "    \n",
    "    b_key = ''.join(b) # accept b as a string or a list\n",
    "    \n",
    "    # reverse tiles if player is O\n",
    "    if player =='O': b_key = flip_board(b_key)\n",
    "    \n",
    "    # list possible moves\n",
    "    opts = [i for i in range(len(b)) if b[i]==' ']\n",
    "\n",
    "    # if state is new, initialize in the q_table\n",
    "    if b_key not in q_table.keys():\n",
    "        # nested dicts Q1 and Q2 for every board state:\n",
    "        q_table[b_key] = {v: {o:init_q for o in opts} for v in ['Q1', 'Q2']}\n",
    "    \n",
    "    # get average Q values from both versions of the table\n",
    "    q_vals = {o: sum([q[o] for q in q_table[b_key].values() ])/2 for o in opts}\n",
    "     \n",
    "    # e-greedy decision\n",
    "    random_move = epsilon > random.uniform(0, 1)\n",
    "    if random_move: \n",
    "        return random.choice(opts) # random move\n",
    "    else:\n",
    "        return max(q_vals, key=q_vals.get)  # smart move"
   ]
  },
  {
   "cell_type": "markdown",
   "metadata": {
    "deletable": false,
    "editable": false,
    "run_control": {
     "frozen": true
    }
   },
   "source": [
    "---\n",
    "\n",
    "### 3.1 `simulate_game()`"
   ]
  },
  {
   "cell_type": "code",
   "execution_count": 7,
   "metadata": {
    "deletable": false,
    "editable": false,
    "run_control": {
     "frozen": true
    }
   },
   "outputs": [],
   "source": [
    "def simulate_game(epsilon_x=1, epsilon_o=1):\n",
    "    \n",
    "    global size # check current environment settings\n",
    "    \n",
    "    b=new_board(size)\n",
    "    steps = []\n",
    "    \n",
    "    while True:    \n",
    "        # iterate between players with e-vals attached\n",
    "        for player, epsilon in zip(['X', 'O'], [epsilon_x, epsilon_o]):\n",
    "            \n",
    "            result = evaluate(b)\n",
    "             \n",
    "            # non-terminal state\n",
    "            if 'C' in result:\n",
    "                \n",
    "                # get next move using player's e-value\n",
    "                move = get_move(b, epsilon, player)\n",
    "                \n",
    "                # store state & action in steps\n",
    "                steps.append({'state':''.join(b.copy()), 'move': move,})\n",
    "                    \n",
    "                # update board\n",
    "                b[move] = player\n",
    "            \n",
    "            # terminal state\n",
    "            else: return steps, result[0]"
   ]
  },
  {
   "cell_type": "markdown",
   "metadata": {
    "deletable": false,
    "editable": false,
    "run_control": {
     "frozen": true
    }
   },
   "source": [
    "---\n",
    "\n",
    "### 3.2 `get_new_q()`"
   ]
  },
  {
   "cell_type": "code",
   "execution_count": 8,
   "metadata": {
    "deletable": false,
    "editable": false,
    "run_control": {
     "frozen": true
    }
   },
   "outputs": [],
   "source": [
    "def get_new_q(current_q, reward, max_future_q):\n",
    "    return (1-lrate)*current_q + lrate*(reward + discount * max_future_q)"
   ]
  },
  {
   "cell_type": "markdown",
   "metadata": {
    "deletable": false,
    "editable": false,
    "run_control": {
     "frozen": true
    }
   },
   "source": [
    "---\n",
    "\n",
    "### 3.3 `backpropagate()`"
   ]
  },
  {
   "cell_type": "code",
   "execution_count": 9,
   "metadata": {
    "deletable": false,
    "editable": false,
    "run_control": {
     "frozen": true
    }
   },
   "outputs": [],
   "source": [
    "def backpropagate(steps, winner, alpha=.9, wait_seconds=False):\n",
    "    \n",
    "    global q_table # make updates to global q table\n",
    "        \n",
    "    # backprop for each player\n",
    "    for player in ['X', 'O']:\n",
    "        p_steps = steps.copy()\n",
    "            \n",
    "    # isolate target player's moves:\n",
    "        # if O, drop X's first move\n",
    "        if player=='O':  p_steps = p_steps[1:]\n",
    "        # board size affects final player in ties!\n",
    "        if winner == 'T':  # is  number of board tiles odd or even?\n",
    "            if player =='O' and size**2%2==1: p_steps = p_steps[:-1]\n",
    "            if player =='X' and size**2%2==0: p_steps = p_steps[:-1]\n",
    "        # if loser, drop opponent's last move\n",
    "        elif player!=winner : \n",
    "            p_steps = p_steps[:-1] \n",
    "        # slice for player steps in reverse\n",
    "        p_steps = p_steps[::-2]\n",
    "        \n",
    "    # iterate backwards over steps (where player moved)\n",
    "        for n_steps_left, step in enumerate(p_steps):\n",
    "            # extract state and move from step\n",
    "            state, move = step['state'], step['move']\n",
    "             # select random q table version to update\n",
    "            qv = random.choice(['Q1', 'Q2']) \n",
    "            # reverse tiles for O\n",
    "            if player=='O': state = flip_board(state) \n",
    "\n",
    "    # define key variables for get_new_q():\n",
    "        # define reward\n",
    "            reward = alpha**(n_steps_left+1)            \n",
    "            if winner=='T':\n",
    "                reward *= -.1 # slight penalty for tie\n",
    "            elif player!=winner:\n",
    "                reward *= -1 # full penalty for hard loss\n",
    "            \n",
    "        # define max_future_q\n",
    "            # if mid-game move, check future state for player to move:\n",
    "            if n_steps_left>0: \n",
    "                future = p_steps[n_steps_left-1]['state']\n",
    "                if player=='O': future = flip_board(future)\n",
    "                max_future_q = max(q_table[future][qv].values())\n",
    "                \n",
    "            # if final move, specify max_future_q manually:\n",
    "            elif player==winner: max_future_q = 1 \n",
    "            elif winner=='T': max_future_q = .5\n",
    "            else: max_future_q = 0\n",
    "            \n",
    "            current_q = q_table[state][qv][move]\n",
    "\n",
    "        # UPDATE Q TABLE:\n",
    "            new_q = get_new_q(current_q, reward, max_future_q)   \n",
    "            # overwrite target table with new q\n",
    "            q_table[state][qv][move] = new_q \n",
    "                \n",
    "    return"
   ]
  },
  {
   "cell_type": "markdown",
   "metadata": {
    "deletable": false,
    "editable": false,
    "run_control": {
     "frozen": true
    }
   },
   "source": [
    "---\n",
    "\n",
    "### 4.1 `train_agent()`"
   ]
  },
  {
   "cell_type": "markdown",
   "metadata": {
    "deletable": false,
    "editable": false,
    "run_control": {
     "frozen": true
    }
   },
   "source": [
    "We including a plotting function using the `Animation` module from `matplotlib` in our agent training, so take a look at the `ql_functions.py` file for the full code. The following is a simplified example to achieve a similar affect, without the live plotting."
   ]
  },
  {
   "cell_type": "code",
   "execution_count": 10,
   "metadata": {
    "deletable": false,
    "editable": false,
    "run_control": {
     "frozen": true
    }
   },
   "outputs": [],
   "source": [
    "def train_agent(iters):\n",
    "    \n",
    "    # define game types\n",
    "    game_types = {\n",
    "        'Training X (random O)':\n",
    "            {'random X': False, 'random O': True},\n",
    "        'Training O (random X)':\n",
    "            {'random X': True, 'random O': False},\n",
    "        'Training both (versus)':\n",
    "            {'random X': False, 'random O': False}     }\n",
    "    \n",
    "    # iterate through game types\n",
    "    for game_type, params in game_types.items():\n",
    "        # play 1/3  iters per game type\n",
    "        for i in range(int(iters/3)):\n",
    "            \n",
    "            # set player epsilons\n",
    "            if params['random X']: epsilon_x = 1\n",
    "            else: epsilon_x = 1-(i/(iters/3)) # *** how we shrink e over one batch *** \n",
    "            if params['random O']: epsilon_o = 1\n",
    "            else: epsilon_o = 1-(i/(iters/3)) # *** how we shrink e over one batch ***\n",
    "                \n",
    "            \n",
    "            # simulate and backpropagate\n",
    "            steps, winner = simulate_game(epsilon_x, epsilon_o)\n",
    "            backpropagate(steps, winner)\n",
    "        \n",
    "        print(f'{game_type}: | Completed {i+1} simulations.')\n",
    "    \n",
    "    print('Training completed.')"
   ]
  },
  {
   "cell_type": "markdown",
   "metadata": {
    "deletable": false,
    "editable": false,
    "run_control": {
     "frozen": true
    }
   },
   "source": [
    "For functions with additional print statements, `matplotlib` animations, and helper functions for compatibility with bigger board sizes, please see the `ql_functions.py` module in this repo.\n",
    "\n",
    "---\n",
    "\n",
    "**Testing:**"
   ]
  },
  {
   "cell_type": "code",
   "execution_count": 11,
   "metadata": {
    "deletable": false,
    "editable": false,
    "run_control": {
     "frozen": true
    }
   },
   "outputs": [
    {
     "name": "stdout",
     "output_type": "stream",
     "text": [
      "Training X (random O): | Completed 1000 simulations.\n",
      "Training O (random X): | Completed 1000 simulations.\n",
      "Training both (versus): | Completed 1000 simulations.\n",
      "Training completed.\n"
     ]
    }
   ],
   "source": [
    "import time\n",
    "import math\n",
    "import random\n",
    "\n",
    "q_table = {}\n",
    "size=3\n",
    "lrate = .1\n",
    "discount = .9\n",
    "\n",
    "train_agent(3000)"
   ]
  }
 ],
 "metadata": {
  "kernelspec": {
   "display_name": "Python 3",
   "language": "python",
   "name": "python3"
  },
  "language_info": {
   "codemirror_mode": {
    "name": "ipython",
    "version": 3
   },
   "file_extension": ".py",
   "mimetype": "text/x-python",
   "name": "python",
   "nbconvert_exporter": "python",
   "pygments_lexer": "ipython3",
   "version": "3.7.5"
  }
 },
 "nbformat": 4,
 "nbformat_minor": 2
}
